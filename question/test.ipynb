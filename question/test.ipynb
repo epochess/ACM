{
 "cells": [
  {
   "cell_type": "code",
   "execution_count": 5,
   "metadata": {},
   "outputs": [
    {
     "name": "stdout",
     "output_type": "stream",
     "text": [
      "True\n"
     ]
    }
   ],
   "source": [
    "from sys  import stdin\n",
    "\n",
    "getline = stdin.readline\n",
    "    \n",
    "class Point:\n",
    "    def __init__(self, x = 0, y = 0):\n",
    "        self.x = x\n",
    "        self.y = y\n",
    "\n",
    "    def __lt__(self, other):\n",
    "        self__ = (self.x ** 2) + (self.y ** 2)\n",
    "        other__ = (other.x ** 2) + (other.y ** 2)\n",
    "        return self__ < other__\n",
    "\n",
    "\n",
    "a = Point(1, 3); b = Point(2, 9); c = Point(-1, -101)\n",
    "print(a < b < c)"
   ]
  }
 ],
 "metadata": {
  "kernelspec": {
   "display_name": "Python 3",
   "language": "python",
   "name": "python3"
  },
  "language_info": {
   "codemirror_mode": {
    "name": "ipython",
    "version": 3
   },
   "file_extension": ".py",
   "mimetype": "text/x-python",
   "name": "python",
   "nbconvert_exporter": "python",
   "pygments_lexer": "ipython3",
   "version": "3.11.5"
  },
  "orig_nbformat": 4
 },
 "nbformat": 4,
 "nbformat_minor": 2
}
